{
 "cells": [
  {
   "cell_type": "markdown",
   "id": "694d1ecb",
   "metadata": {},
   "source": [
    "# 붓꽃데이터(분류)"
   ]
  },
  {
   "cell_type": "code",
   "execution_count": 6,
   "id": "546d8781",
   "metadata": {},
   "outputs": [],
   "source": [
    "from sklearn.datasets import load_iris\n",
    "from sklearn.tree import DecisionTreeClassifier\n",
    "from sklearn.model_selection import train_test_split\n",
    "import pandas as pd"
   ]
  },
  {
   "cell_type": "code",
   "execution_count": 8,
   "id": "3d9ce374",
   "metadata": {},
   "outputs": [
    {
     "name": "stdout",
     "output_type": "stream",
     "text": [
      "target 값 [0 0 0 0 0 0 0 0 0 0 0 0 0 0 0 0 0 0 0 0 0 0 0 0 0 0 0 0 0 0 0 0 0 0 0 0 0\n",
      " 0 0 0 0 0 0 0 0 0 0 0 0 0 1 1 1 1 1 1 1 1 1 1 1 1 1 1 1 1 1 1 1 1 1 1 1 1\n",
      " 1 1 1 1 1 1 1 1 1 1 1 1 1 1 1 1 1 1 1 1 1 1 1 1 1 1 2 2 2 2 2 2 2 2 2 2 2\n",
      " 2 2 2 2 2 2 2 2 2 2 2 2 2 2 2 2 2 2 2 2 2 2 2 2 2 2 2 2 2 2 2 2 2 2 2 2 2\n",
      " 2 2]\n",
      "target 명 ['setosa' 'versicolor' 'virginica']\n"
     ]
    },
    {
     "data": {
      "text/html": [
       "<div>\n",
       "<style scoped>\n",
       "    .dataframe tbody tr th:only-of-type {\n",
       "        vertical-align: middle;\n",
       "    }\n",
       "\n",
       "    .dataframe tbody tr th {\n",
       "        vertical-align: top;\n",
       "    }\n",
       "\n",
       "    .dataframe thead th {\n",
       "        text-align: right;\n",
       "    }\n",
       "</style>\n",
       "<table border=\"1\" class=\"dataframe\">\n",
       "  <thead>\n",
       "    <tr style=\"text-align: right;\">\n",
       "      <th></th>\n",
       "      <th>sepal length (cm)</th>\n",
       "      <th>sepal width (cm)</th>\n",
       "      <th>petal length (cm)</th>\n",
       "      <th>petal width (cm)</th>\n",
       "      <th>label</th>\n",
       "    </tr>\n",
       "  </thead>\n",
       "  <tbody>\n",
       "    <tr>\n",
       "      <th>0</th>\n",
       "      <td>5.1</td>\n",
       "      <td>3.5</td>\n",
       "      <td>1.4</td>\n",
       "      <td>0.2</td>\n",
       "      <td>0</td>\n",
       "    </tr>\n",
       "    <tr>\n",
       "      <th>1</th>\n",
       "      <td>4.9</td>\n",
       "      <td>3.0</td>\n",
       "      <td>1.4</td>\n",
       "      <td>0.2</td>\n",
       "      <td>0</td>\n",
       "    </tr>\n",
       "    <tr>\n",
       "      <th>2</th>\n",
       "      <td>4.7</td>\n",
       "      <td>3.2</td>\n",
       "      <td>1.3</td>\n",
       "      <td>0.2</td>\n",
       "      <td>0</td>\n",
       "    </tr>\n",
       "  </tbody>\n",
       "</table>\n",
       "</div>"
      ],
      "text/plain": [
       "   sepal length (cm)  sepal width (cm)  petal length (cm)  petal width (cm)  \\\n",
       "0                5.1               3.5                1.4               0.2   \n",
       "1                4.9               3.0                1.4               0.2   \n",
       "2                4.7               3.2                1.3               0.2   \n",
       "\n",
       "   label  \n",
       "0      0  \n",
       "1      0  \n",
       "2      0  "
      ]
     },
     "execution_count": 8,
     "metadata": {},
     "output_type": "execute_result"
    }
   ],
   "source": [
    "iris=load_iris()\n",
    "iris_data=iris.data  ##only features\n",
    "iris_label=iris.target  ##only label\n",
    "print(\"target 값\", iris.target)\n",
    "print(\"target 명\", iris.target_names)\n",
    "\n",
    "iris_df=pd.DataFrame(data=iris_data,columns=iris.feature_names)\n",
    "iris_df['label']=iris.target\n",
    "iris_df.head(3)"
   ]
  },
  {
   "cell_type": "code",
   "execution_count": 10,
   "id": "6fd3f18e",
   "metadata": {},
   "outputs": [
    {
     "name": "stdout",
     "output_type": "stream",
     "text": [
      "예측정확도: 0.9000\n"
     ]
    }
   ],
   "source": [
    "X_train,X_test,y_train,y_test=train_test_split(iris_data,iris_label,test_size=0.2,random_state=111)\n",
    "\n",
    "df_clf=DecisionTreeClassifier(random_state=111)\n",
    "df_clf.fit(X_train,y_train)   #학습 완료\n",
    "pred=df_clf.predict(X_test)   #예측 완료\n",
    "\n",
    "from sklearn.metrics import accuracy_score\n",
    "print(\"예측정확도: {0:.4f}\".format(accuracy_score(y_test,pred)))"
   ]
  },
  {
   "cell_type": "markdown",
   "id": "8985d1ce",
   "metadata": {},
   "source": [
    "# 사이킷런 \n",
    "#### 주요 모듈\n",
    "- sklearn.preprocessing(인코딩, 정규화, 스케일링...), sklean.feature_selection, sklearn.feature_extraction : 피처 처리\n",
    "- sklearn.decomposition : 차원축소\n",
    "- sklearn.model_selection : 데이터 분리, 최저 파라미터 추출\n",
    "- sklearn.metrics : 성능측정(평가)\n",
    "- sklearn.ensemble(앙상블-랜덤포레스트, 에이다부스트, 그래디언트 부스팅), linear_model(회귀),naive_bayes(나이브베이즈), beighbors(최근접이웃),svm,tree(의사결정트리),cluster(비지도 클러스터링)"
   ]
  },
  {
   "cell_type": "code",
   "execution_count": 13,
   "id": "a66f0cbd",
   "metadata": {},
   "outputs": [
    {
     "name": "stdout",
     "output_type": "stream",
     "text": [
      "<class 'sklearn.utils.Bunch'>\n",
      "<built-in method keys of Bunch object at 0x000001AEB6B28900>\n"
     ]
    }
   ],
   "source": [
    "iris_data=load_iris()\n",
    "print(type(iris_data))   ##딕셔너리와 유사"
   ]
  },
  {
   "cell_type": "code",
   "execution_count": 15,
   "id": "acae3d49",
   "metadata": {},
   "outputs": [
    {
     "name": "stdout",
     "output_type": "stream",
     "text": [
      "dict_keys(['data', 'target', 'frame', 'target_names', 'DESCR', 'feature_names', 'filename'])\n"
     ]
    }
   ],
   "source": [
    "keys=iris_data.keys()\n",
    "print(keys)"
   ]
  },
  {
   "cell_type": "markdown",
   "id": "62a2c3e8",
   "metadata": {},
   "source": [
    "# 교차검증\n",
    "- 과적합 문제: 모델이 학습 데이터에만 과도하게 최적화되어 예측성능이 떨어지는 현상 -> 해결 위해 교차검증 사용\n",
    "- 여러 세트로 구성된 학습, 검증 데이터 세트에서 학습과 평가 수행"
   ]
  },
  {
   "cell_type": "markdown",
   "id": "24960519",
   "metadata": {},
   "source": [
    "K 폴드 교차 검증\n",
    "- k개의 데이터 폴드 세트를 만들어 각 세트에서 학습과 검증 반복\n",
    "- k개의 예측 평가를 구하여 평균내어 k폴드 평가 결과로 반영"
   ]
  },
  {
   "cell_type": "code",
   "execution_count": 23,
   "id": "1aff91bb",
   "metadata": {},
   "outputs": [
    {
     "name": "stdout",
     "output_type": "stream",
     "text": [
      "붓꽃 데이터 세트 크기:  150\n"
     ]
    }
   ],
   "source": [
    "from sklearn.tree import DecisionTreeClassifier\n",
    "from sklearn.metrics import accuracy_score\n",
    "from sklearn.model_selection import KFold\n",
    "import numpy as np\n",
    "\n",
    "iris=load_iris()\n",
    "features=iris.data\n",
    "label=iris.target\n",
    "\n",
    "dt_clf=DecisionTreeClassifier(random_state=111)\n",
    "kfold=KFold(n_splits=5)   ##5폴드 교차 검증\n",
    "cv_accuracy=[]    ##폴드 세트별 정확도 담을 리스트\n",
    "print(\"붓꽃 데이터 세트 크기: \",features.shape[0])"
   ]
  },
  {
   "cell_type": "code",
   "execution_count": 37,
   "id": "9c628e44",
   "metadata": {},
   "outputs": [
    {
     "name": "stdout",
     "output_type": "stream",
     "text": [
      "\n",
      "1 교차 검증 정확도: 0.3333, 학습데이터 크기: 120, 검증데이터 크기: 30\n",
      "\n",
      "2 교차 검증 정확도: 0.3333, 학습데이터 크기: 120, 검증데이터 크기: 30\n",
      "\n",
      "3 교차 검증 정확도: 0.2333, 학습데이터 크기: 120, 검증데이터 크기: 30\n",
      "\n",
      "4 교차 검증 정확도: 0.3, 학습데이터 크기: 120, 검증데이터 크기: 30\n",
      "\n",
      "5 교차 검증 정확도: 0.3333, 학습데이터 크기: 120, 검증데이터 크기: 30\n",
      "\n",
      "평균 정확도:  0.30663999999999997\n"
     ]
    }
   ],
   "source": [
    "n_iter=0\n",
    "\n",
    "for train_index, test_index in kfold.split(features):\n",
    "    X_train,X_test=features[train_index],features[test_index]\n",
    "    y_train,t_test=label[train_index,],label[test_index]\n",
    "    \n",
    "    dt_clf.fit(X_train,y_train)\n",
    "    pred=dt_clf.predict(X_test)\n",
    "    n_iter += 1\n",
    "    \n",
    "    accuracy=np.round(accuracy_score(y_test,pred),4)\n",
    "    train_size=X_train.shape[0]\n",
    "    test_size=X_test.shape[0]\n",
    "    print('\\n{0} 교차 검증 정확도: {1}, 학습데이터 크기: {2}, 검증데이터 크기: {3}'.format(n_iter,accuracy,train_size,test_size))\n",
    "    cv_accuracy.append(accuracy)\n",
    "    \n",
    "print(\"\\n평균 정확도: \",np.mean(cv_accuracy))"
   ]
  },
  {
   "cell_type": "markdown",
   "id": "1e26abef",
   "metadata": {},
   "source": [
    "stratified K 폴드\n",
    "- 특정 레이블값이 특이하게 많거나 적어 값의 분포가 한쪽으로 치우치는 경우에 사용"
   ]
  },
  {
   "cell_type": "code",
   "execution_count": 42,
   "id": "b23fd405",
   "metadata": {},
   "outputs": [
    {
     "data": {
      "text/plain": [
       "0    50\n",
       "1    50\n",
       "2    50\n",
       "Name: label, dtype: int64"
      ]
     },
     "execution_count": 42,
     "metadata": {},
     "output_type": "execute_result"
    }
   ],
   "source": [
    "iris=load_iris()\n",
    "iris_df=pd.DataFrame(data=iris.data,columns=iris.feature_names)\n",
    "iris_df['label']=iris.target\n",
    "iris_df['label'].value_counts()  ##0,1,2 값이 모두 50개로 동일"
   ]
  },
  {
   "cell_type": "code",
   "execution_count": 47,
   "id": "d8883c1a",
   "metadata": {},
   "outputs": [
    {
     "name": "stdout",
     "output_type": "stream",
     "text": [
      "교차검증: 1\n",
      "학습 레이블 세트:\n",
      " 1    50\n",
      "2    50\n",
      "Name: label, dtype: int64\n",
      "검증 레이블 세트:\n",
      " 0    50\n",
      "Name: label, dtype: int64\n",
      "교차검증: 2\n",
      "학습 레이블 세트:\n",
      " 0    50\n",
      "2    50\n",
      "Name: label, dtype: int64\n",
      "검증 레이블 세트:\n",
      " 1    50\n",
      "Name: label, dtype: int64\n",
      "교차검증: 3\n",
      "학습 레이블 세트:\n",
      " 0    50\n",
      "1    50\n",
      "Name: label, dtype: int64\n",
      "검증 레이블 세트:\n",
      " 2    50\n",
      "Name: label, dtype: int64\n"
     ]
    }
   ],
   "source": [
    "#일반적인 k폴드 방식\n",
    "kfold=KFold(n_splits=3)\n",
    "n_iter=0\n",
    "for train_index,test_index in kfold.split(iris_df):\n",
    "    n_iter+=1\n",
    "    label_train=iris_df['label'].iloc[train_index]\n",
    "    label_test=iris_df['label'].iloc[test_index]\n",
    "    print(\"교차검증: {0}\".format(n_iter))\n",
    "    print(\"학습 레이블 세트:\\n {0}\".format(label_train.value_counts()))\n",
    "    print(\"검증 레이블 세트:\\n {0}\".format(label_test.value_counts()))"
   ]
  },
  {
   "cell_type": "code",
   "execution_count": 49,
   "id": "41a5399e",
   "metadata": {},
   "outputs": [
    {
     "name": "stdout",
     "output_type": "stream",
     "text": [
      "교차검증: 1\n",
      "학습 레이블 세트:\n",
      " 2    34\n",
      "0    33\n",
      "1    33\n",
      "Name: label, dtype: int64\n",
      "검증 레이블 세트:\n",
      " 0    17\n",
      "1    17\n",
      "2    16\n",
      "Name: label, dtype: int64\n",
      "교차검증: 2\n",
      "학습 레이블 세트:\n",
      " 1    34\n",
      "0    33\n",
      "2    33\n",
      "Name: label, dtype: int64\n",
      "검증 레이블 세트:\n",
      " 0    17\n",
      "2    17\n",
      "1    16\n",
      "Name: label, dtype: int64\n",
      "교차검증: 3\n",
      "학습 레이블 세트:\n",
      " 0    34\n",
      "1    33\n",
      "2    33\n",
      "Name: label, dtype: int64\n",
      "검증 레이블 세트:\n",
      " 1    17\n",
      "2    17\n",
      "0    16\n",
      "Name: label, dtype: int64\n"
     ]
    }
   ],
   "source": [
    "#stratifiedKFold 방식\n",
    "from sklearn.model_selection import StratifiedKFold\n",
    "skf=StratifiedKFold(n_splits=3)\n",
    "\n",
    "n_iter=0\n",
    "for train_index,test_index in skf.split(iris_df,iris_df['label']):    #파라미터로 label 값도 필요\n",
    "    n_iter+=1\n",
    "    label_train=iris_df['label'].iloc[train_index]\n",
    "    label_test=iris_df['label'].iloc[test_index]\n",
    "    print(\"교차검증: {0}\".format(n_iter))\n",
    "    print(\"학습 레이블 세트:\\n {0}\".format(label_train.value_counts()))\n",
    "    print(\"검증 레이블 세트:\\n {0}\".format(label_test.value_counts()))"
   ]
  },
  {
   "cell_type": "markdown",
   "id": "20c82b14",
   "metadata": {},
   "source": [
    "- 데이터 값이 동일한 비율로 할당된 것 확인 가능"
   ]
  },
  {
   "cell_type": "code",
   "execution_count": null,
   "id": "b3aaefc2",
   "metadata": {},
   "outputs": [],
   "source": []
  }
 ],
 "metadata": {
  "kernelspec": {
   "display_name": "Python 3 (ipykernel)",
   "language": "python",
   "name": "python3"
  },
  "language_info": {
   "codemirror_mode": {
    "name": "ipython",
    "version": 3
   },
   "file_extension": ".py",
   "mimetype": "text/x-python",
   "name": "python",
   "nbconvert_exporter": "python",
   "pygments_lexer": "ipython3",
   "version": "3.9.7"
  }
 },
 "nbformat": 4,
 "nbformat_minor": 5
}
