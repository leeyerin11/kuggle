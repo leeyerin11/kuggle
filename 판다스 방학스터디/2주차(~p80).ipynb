{
 "cells": [
  {
   "cell_type": "markdown",
   "id": "268258d5",
   "metadata": {},
   "source": [
    "# 인덱스 활용"
   ]
  },
  {
   "cell_type": "markdown",
   "id": "2831b17f",
   "metadata": {},
   "source": [
    "(1)열->행 인덱스"
   ]
  },
  {
   "cell_type": "code",
   "execution_count": 3,
   "id": "67e9126f",
   "metadata": {},
   "outputs": [],
   "source": [
    "import pandas as pd\n",
    "import numpy as np"
   ]
  },
  {
   "cell_type": "code",
   "execution_count": 4,
   "id": "c92e3239",
   "metadata": {},
   "outputs": [
    {
     "name": "stdout",
     "output_type": "stream",
     "text": [
      "   이름  수학  영어   음악   체육\n",
      "0  서준  90  98   85  100\n",
      "1  우현  80  89   95   90\n",
      "2  인아  70  95  100   90\n",
      "    수학  영어   음악   체육\n",
      "이름                  \n",
      "서준  90  98   85  100\n",
      "우현  80  89   95   90\n",
      "인아  70  95  100   90\n",
      "     수학  영어   체육\n",
      "음악              \n",
      "85   90  98  100\n",
      "95   80  89   90\n",
      "100  70  95   90\n",
      "        영어   체육\n",
      "수학 음악          \n",
      "90 85   98  100\n",
      "80 95   89   90\n",
      "70 100  95   90\n"
     ]
    }
   ],
   "source": [
    "exam_data={'이름':['서준','우현','인아'],\n",
    "           '수학':[90,80,70],\n",
    "           '영어':[98,89,95],\n",
    "           '음악':[85,95,100],\n",
    "           '체육':[100,90,90]}\n",
    "df=pd.DataFrame(exam_data)\n",
    "print(df)\n",
    "\n",
    "ndf=df.set_index(['이름'])  #'이름' 열을 행 인덱스로 변환\n",
    "print(ndf)\n",
    "\n",
    "ndf2=ndf.set_index(['음악'])\n",
    "print(ndf2)\n",
    "\n",
    "ndf3=ndf.set_index(['수학','음악'])\n",
    "print(ndf3)"
   ]
  },
  {
   "cell_type": "markdown",
   "id": "553dc40f",
   "metadata": {},
   "source": [
    "(2)행 인덱스 재배열"
   ]
  },
  {
   "cell_type": "code",
   "execution_count": 5,
   "id": "c926fd42",
   "metadata": {},
   "outputs": [
    {
     "name": "stdout",
     "output_type": "stream",
     "text": [
      "    c0  c1  c2  c3  c4\n",
      "r0   1   4   7  10  13\n",
      "r1   2   5   8  11  14\n",
      "r2   3   6   9  12  15\n",
      "     c0   c1   c2    c3    c4\n",
      "r0  1.0  4.0  7.0  10.0  13.0\n",
      "r1  2.0  5.0  8.0  11.0  14.0\n",
      "r2  3.0  6.0  9.0  12.0  15.0\n",
      "r3  NaN  NaN  NaN   NaN   NaN\n",
      "r4  NaN  NaN  NaN   NaN   NaN\n",
      "    c0  c1  c2  c3  c4\n",
      "r0   1   4   7  10  13\n",
      "r1   2   5   8  11  14\n",
      "r2   3   6   9  12  15\n",
      "r3   0   0   0   0   0\n",
      "r4   0   0   0   0   0\n"
     ]
    }
   ],
   "source": [
    "dict_data={'c0':[1,2,3], 'c1':[4,5,6], 'c2':[7,8,9], 'c3':[10,11,12], 'c4':[13,14,15]}\n",
    "\n",
    "df=pd.DataFrame(dict_data, index=['r0','r1','r2'])\n",
    "print(df)\n",
    "\n",
    "new_index=['r0','r1','r2','r3','r4']  #인덱스 재지정\n",
    "ndf=df.reindex(new_index)\n",
    "print(ndf)  #'r3','r4' 인덱스는 nan 상태\n",
    "\n",
    "ndf2=df.reindex(new_index, fill_value=0)  #nan값 대신 0 입력\n",
    "print(ndf2)"
   ]
  },
  {
   "cell_type": "markdown",
   "id": "d54ddb68",
   "metadata": {},
   "source": [
    "(3) 행 인덱스 초기화"
   ]
  },
  {
   "cell_type": "code",
   "execution_count": 6,
   "id": "06d442ba",
   "metadata": {},
   "outputs": [
    {
     "name": "stdout",
     "output_type": "stream",
     "text": [
      "  index  c0  c1  c2  c3  c4\n",
      "0    r0   1   4   7  10  13\n",
      "1    r1   2   5   8  11  14\n",
      "2    r2   3   6   9  12  15\n"
     ]
    }
   ],
   "source": [
    "ndf=df.reset_index()  #행 인덱스를 정수형으로 초기화/ 기존 인덱스는 열로 이동\n",
    "print(ndf)"
   ]
  },
  {
   "cell_type": "markdown",
   "id": "96657694",
   "metadata": {},
   "source": [
    "(4) 행 인덱스 기준으로 데이터프레임 정렬"
   ]
  },
  {
   "cell_type": "code",
   "execution_count": 7,
   "id": "349838dd",
   "metadata": {},
   "outputs": [
    {
     "name": "stdout",
     "output_type": "stream",
     "text": [
      "    c0  c1  c2  c3  c4\n",
      "r2   3   6   9  12  15\n",
      "r1   2   5   8  11  14\n",
      "r0   1   4   7  10  13\n",
      "    c0  c1  c2  c3  c4\n",
      "r2   3   6   9  12  15\n",
      "r1   2   5   8  11  14\n",
      "r0   1   4   7  10  13\n"
     ]
    }
   ],
   "source": [
    "#전체 열\n",
    "ndf=df.sort_index(ascending=False)  #행 인덱스의 이름을 기준으로 새롭게 정렬(여기서는 내림차순)\n",
    "print(ndf)\n",
    "\n",
    "#특정 열\n",
    "ndf=df.sort_values(by='c1',ascending=False)  #특정 열의 데이터 값을 기준을 새롭게 정렬\n",
    "print(ndf)"
   ]
  },
  {
   "cell_type": "markdown",
   "id": "84bc812f",
   "metadata": {},
   "source": [
    "# 4. 산술연산"
   ]
  },
  {
   "cell_type": "markdown",
   "id": "65217b9b",
   "metadata": {},
   "source": [
    "# 4.1 시리즈 연산"
   ]
  },
  {
   "cell_type": "markdown",
   "id": "403c92c2",
   "metadata": {},
   "source": [
    "(1) 시리즈 vs 숫자"
   ]
  },
  {
   "cell_type": "code",
   "execution_count": 8,
   "id": "388acfd4",
   "metadata": {},
   "outputs": [
    {
     "name": "stdout",
     "output_type": "stream",
     "text": [
      "국어    100\n",
      "영어     80\n",
      "수학     90\n",
      "dtype: int64\n",
      "국어    0.50\n",
      "영어    0.40\n",
      "수학    0.45\n",
      "dtype: float64\n",
      "<class 'pandas.core.series.Series'>\n"
     ]
    }
   ],
   "source": [
    "student1=pd.Series({'국어':100, '영어':80, '수학':90})  #시리즈 생성\n",
    "print(student1)\n",
    "\n",
    "percentage=student1/200\n",
    "print(percentage)\n",
    "print(type(percentage))"
   ]
  },
  {
   "cell_type": "markdown",
   "id": "8ef2a484",
   "metadata": {},
   "source": [
    "(2) 시리즈 vs 시리즈"
   ]
  },
  {
   "cell_type": "code",
   "execution_count": 9,
   "id": "91e8e242",
   "metadata": {},
   "outputs": [
    {
     "name": "stdout",
     "output_type": "stream",
     "text": [
      "              국어        수학      영어\n",
      "덧셈    190.000000   170.000   160.0\n",
      "뺄셈     10.000000    10.000     0.0\n",
      "곱셈   9000.000000  7200.000  6400.0\n",
      "나눗셈     1.111111     1.125     1.0\n"
     ]
    }
   ],
   "source": [
    "student1=pd.Series({'국어':100, '영어':80, '수학':90})\n",
    "student2=pd.Series({'수학':80, '국어':90, '영어':80})\n",
    "\n",
    "addiction=student1+student2  #인덱스 이름이 같은 것끼리 계산 됨\n",
    "subtraction=student1-student2\n",
    "multiplication=student1*student2\n",
    "division=student1/student2\n",
    "\n",
    "result=pd.DataFrame([addiction,subtraction,multiplication,division],\n",
    "                   index=['덧셈','뺄셈','곱셈','나눗셈'])\n",
    "print(result)"
   ]
  },
  {
   "cell_type": "code",
   "execution_count": 10,
   "id": "36faef65",
   "metadata": {},
   "outputs": [
    {
     "name": "stdout",
     "output_type": "stream",
     "text": [
      "     국어        수학  영어\n",
      "덧셈  NaN   170.000 NaN\n",
      "뺄셈  NaN    10.000 NaN\n",
      "곱셈  NaN  7200.000 NaN\n",
      "나눗셈 NaN     1.125 NaN\n"
     ]
    }
   ],
   "source": [
    "student1=pd.Series({'국어':np.nan, '영어':80, '수학':90})  # 국어 데이터 nan\n",
    "student2=pd.Series({'수학':80, '국어':90})  #두 시리즈 원소 개수 다름\n",
    "\n",
    "addiction=student1+student2  #인덱스 이름이 같은 것끼리 계산 됨\n",
    "subtraction=student1-student2\n",
    "multiplication=student1*student2\n",
    "division=student1/student2\n",
    "\n",
    "result=pd.DataFrame([addiction,subtraction,multiplication,division],\n",
    "                    index=['덧셈','뺄셈','곱셈','나눗셈'])\n",
    "print(result)"
   ]
  },
  {
   "cell_type": "markdown",
   "id": "a40c4a8f",
   "metadata": {},
   "source": [
    "(3) 연산 메소드"
   ]
  },
  {
   "cell_type": "code",
   "execution_count": 11,
   "id": "45caee96",
   "metadata": {},
   "outputs": [
    {
     "name": "stdout",
     "output_type": "stream",
     "text": [
      "       국어        수학    영어\n",
      "덧셈   90.0   170.000  80.0\n",
      "뺄셈  -90.0    10.000  80.0\n",
      "곱셈    0.0  7200.000   0.0\n",
      "나눗셈   0.0     1.125   inf\n"
     ]
    }
   ],
   "source": [
    "#연산 메소드: add,sub,mul,div\n",
    "sr_add=student1.add(student2,fill_value=0)\n",
    "sr_sub=student1.sub(student2,fill_value=0)\n",
    "sr_mul=student1.mul(student2,fill_value=0)\n",
    "sr_div=student1.div(student2,fill_value=0)\n",
    "\n",
    "result=pd.DataFrame([sr_add,sr_sub,sr_mul,sr_div],\n",
    "                   index=['덧셈','뺄셈','곱셈','나눗셈'])\n",
    "print(result)"
   ]
  },
  {
   "cell_type": "markdown",
   "id": "490bb3db",
   "metadata": {},
   "source": [
    "# 4.2 데이터프레임 연산"
   ]
  },
  {
   "cell_type": "markdown",
   "id": "427a8705",
   "metadata": {},
   "source": [
    "(1) 데이터프레임 vs 숫자"
   ]
  },
  {
   "cell_type": "code",
   "execution_count": 12,
   "id": "2ecbf94d",
   "metadata": {},
   "outputs": [
    {
     "name": "stdout",
     "output_type": "stream",
     "text": [
      "<bound method NDFrame.head of       age     fare\n",
      "0    22.0   7.2500\n",
      "1    38.0  71.2833\n",
      "2    26.0   7.9250\n",
      "3    35.0  53.1000\n",
      "4    35.0   8.0500\n",
      "..    ...      ...\n",
      "886  27.0  13.0000\n",
      "887  19.0  30.0000\n",
      "888   NaN  23.4500\n",
      "889  26.0  30.0000\n",
      "890  32.0   7.7500\n",
      "\n",
      "[891 rows x 2 columns]>\n",
      "<bound method NDFrame.head of       age     fare\n",
      "0    32.0  17.2500\n",
      "1    48.0  81.2833\n",
      "2    36.0  17.9250\n",
      "3    45.0  63.1000\n",
      "4    45.0  18.0500\n",
      "..    ...      ...\n",
      "886  37.0  23.0000\n",
      "887  29.0  40.0000\n",
      "888   NaN  33.4500\n",
      "889  36.0  40.0000\n",
      "890  42.0  17.7500\n",
      "\n",
      "[891 rows x 2 columns]>\n"
     ]
    }
   ],
   "source": [
    "import seaborn as sns  #seaborn 라이브러리의 타이타닉 데이터셋 사용\n",
    "titanic=sns.load_dataset('titanic')\n",
    "df=titanic.loc[:,['age','fare']]  #타이타닉 데이터셋 중 age와 fare열 사용\n",
    "print(df.head)\n",
    "\n",
    "addition=df+10\n",
    "print(addition.head)"
   ]
  },
  {
   "cell_type": "markdown",
   "id": "c3eec562",
   "metadata": {},
   "source": [
    "(2) 데이터프레임 vs 데이터프레임"
   ]
  },
  {
   "cell_type": "code",
   "execution_count": 13,
   "id": "753a3a14",
   "metadata": {},
   "outputs": [
    {
     "name": "stdout",
     "output_type": "stream",
     "text": [
      "      age   fare\n",
      "886  27.0  13.00\n",
      "887  19.0  30.00\n",
      "888   NaN  23.45\n",
      "889  26.0  30.00\n",
      "890  32.0   7.75\n",
      "      age   fare\n",
      "886  37.0  23.00\n",
      "887  29.0  40.00\n",
      "888   NaN  33.45\n",
      "889  36.0  40.00\n",
      "890  42.0  17.75\n",
      "      age  fare\n",
      "886  10.0  10.0\n",
      "887  10.0  10.0\n",
      "888   NaN  10.0\n",
      "889  10.0  10.0\n",
      "890  10.0  10.0\n"
     ]
    }
   ],
   "source": [
    "print(df.tail())\n",
    "print(addition.tail())\n",
    "\n",
    "subtraction=addition-df\n",
    "print(subtraction.tail())"
   ]
  },
  {
   "cell_type": "markdown",
   "id": "3683d2f2",
   "metadata": {},
   "source": [
    "# PART2. 데이터 입출력"
   ]
  },
  {
   "cell_type": "markdown",
   "id": "847a19f0",
   "metadata": {},
   "source": [
    "# 1. 외부파일 읽어오기 "
   ]
  },
  {
   "cell_type": "markdown",
   "id": "a4d91ba1",
   "metadata": {},
   "source": [
    "# 1.1 csv파일"
   ]
  },
  {
   "cell_type": "code",
   "execution_count": 14,
   "id": "86a94314",
   "metadata": {},
   "outputs": [
    {
     "name": "stdout",
     "output_type": "stream",
     "text": [
      "   c0  c1  c2  c3\n",
      "0   0   1   4   7\n",
      "1   1   2   5   8\n",
      "2   2   3   6   9\n",
      "    0   1   2   3\n",
      "0  c0  c1  c2  c3\n",
      "1   0   1   4   7\n",
      "2   1   2   5   8\n",
      "3   2   3   6   9\n",
      "   c0  c1  c2  c3\n",
      "0   0   1   4   7\n",
      "1   1   2   5   8\n",
      "2   2   3   6   9\n",
      "    c1  c2  c3\n",
      "c0            \n",
      "0    1   4   7\n",
      "1    2   5   8\n",
      "2    3   6   9\n"
     ]
    }
   ],
   "source": [
    "file_path='C:/Users/user/Desktop/쿠글 여름 스터디/2주차 자료/part2/read_csv_sample.csv'\n",
    "df1=pd.read_csv(file_path)\n",
    "print(df1)\n",
    "\n",
    "df2=pd.read_csv(file_path,header=None)  #행을 열 지정하지 않음\n",
    "print(df2)\n",
    "\n",
    "df3=pd.read_csv(file_path,index_col=None)  \n",
    "print(df3)\n",
    "\n",
    "df4=pd.read_csv(file_path,index_col='c0')  #'c0'열이 행 인덱스\n",
    "print(df4)"
   ]
  },
  {
   "cell_type": "markdown",
   "id": "ba1e6c98",
   "metadata": {},
   "source": [
    "# 1.2 excel 파일"
   ]
  },
  {
   "cell_type": "code",
   "execution_count": 15,
   "id": "da82458d",
   "metadata": {},
   "outputs": [
    {
     "name": "stdout",
     "output_type": "stream",
     "text": [
      "  전력량 (억㎾h) 발전 전력별  1990  1991  1992  1993  1994  1995  1996  1997  ...  2007  \\\n",
      "0        남한     합계  1077  1186  1310  1444  1650  1847  2055  2244  ...  4031   \n",
      "1       NaN     수력    64    51    49    60    41    55    52    54  ...    50   \n",
      "2       NaN     화력   484   573   696   803  1022  1122  1264  1420  ...  2551   \n",
      "3       NaN    원자력   529   563   565   581   587   670   739   771  ...  1429   \n",
      "4       NaN    신재생     -     -     -     -     -     -     -     -  ...     -   \n",
      "5        북한     합계   277   263   247   221   231   230   213   193  ...   236   \n",
      "6       NaN     수력   156   150   142   133   138   142   125   107  ...   133   \n",
      "7       NaN     화력   121   113   105    88    93    88    88    86  ...   103   \n",
      "8       NaN    원자력     -     -     -     -     -     -     -     -  ...     -   \n",
      "\n",
      "   2008  2009  2010  2011  2012  2013  2014  2015  2016  \n",
      "0  4224  4336  4747  4969  5096  5171  5220  5281  5404  \n",
      "1    56    56    65    78    77    84    78    58    66  \n",
      "2  2658  2802  3196  3343  3430  3581  3427  3402  3523  \n",
      "3  1510  1478  1486  1547  1503  1388  1564  1648  1620  \n",
      "4     -     -     -     -    86   118   151   173   195  \n",
      "5   255   235   237   211   215   221   216   190   239  \n",
      "6   141   125   134   132   135   139   130   100   128  \n",
      "7   114   110   103    79    80    82    86    90   111  \n",
      "8     -     -     -     -     -     -     -     -     -  \n",
      "\n",
      "[9 rows x 29 columns]\n",
      "          0       1     2     3     4     5     6     7     8     9   ...  \\\n",
      "0  전력량 (억㎾h)  발전 전력별  1990  1991  1992  1993  1994  1995  1996  1997  ...   \n",
      "1         남한      합계  1077  1186  1310  1444  1650  1847  2055  2244  ...   \n",
      "2        NaN      수력    64    51    49    60    41    55    52    54  ...   \n",
      "3        NaN      화력   484   573   696   803  1022  1122  1264  1420  ...   \n",
      "4        NaN     원자력   529   563   565   581   587   670   739   771  ...   \n",
      "5        NaN     신재생     -     -     -     -     -     -     -     -  ...   \n",
      "6         북한      합계   277   263   247   221   231   230   213   193  ...   \n",
      "7        NaN      수력   156   150   142   133   138   142   125   107  ...   \n",
      "8        NaN      화력   121   113   105    88    93    88    88    86  ...   \n",
      "9        NaN     원자력     -     -     -     -     -     -     -     -  ...   \n",
      "\n",
      "     19    20    21    22    23    24    25    26    27    28  \n",
      "0  2007  2008  2009  2010  2011  2012  2013  2014  2015  2016  \n",
      "1  4031  4224  4336  4747  4969  5096  5171  5220  5281  5404  \n",
      "2    50    56    56    65    78    77    84    78    58    66  \n",
      "3  2551  2658  2802  3196  3343  3430  3581  3427  3402  3523  \n",
      "4  1429  1510  1478  1486  1547  1503  1388  1564  1648  1620  \n",
      "5     -     -     -     -     -    86   118   151   173   195  \n",
      "6   236   255   235   237   211   215   221   216   190   239  \n",
      "7   133   141   125   134   132   135   139   130   100   128  \n",
      "8   103   114   110   103    79    80    82    86    90   111  \n",
      "9     -     -     -     -     -     -     -     -     -     -  \n",
      "\n",
      "[10 rows x 29 columns]\n"
     ]
    }
   ],
   "source": [
    "df1=pd.read_excel('C:/Users/user/Desktop/쿠글 여름 스터디/2주차 자료/part2/남북한발전전력량.xlsx')  #첫 행이 열 이름 구성\n",
    "df2=pd.read_excel('C:/Users/user/Desktop/쿠글 여름 스터디/2주차 자료/part2/남북한발전전력량.xlsx', header=None)\n",
    "\n",
    "print(df1)\n",
    "print(df2)"
   ]
  },
  {
   "cell_type": "markdown",
   "id": "850fc175",
   "metadata": {},
   "source": [
    "# 1.3 JSON 파일"
   ]
  },
  {
   "cell_type": "code",
   "execution_count": 16,
   "id": "6c05ec5f",
   "metadata": {},
   "outputs": [
    {
     "name": "stdout",
     "output_type": "stream",
     "text": [
      "           name  year        developer opensource\n",
      "pandas           2008    Wes Mckinneye       True\n",
      "NumPy            2006  Travis Oliphant       True\n",
      "matplotlib       2003   John D. Hunter       True\n",
      "Index(['pandas', 'NumPy', 'matplotlib'], dtype='object')\n"
     ]
    }
   ],
   "source": [
    "df=pd.read_json('C:/Users/user/Desktop/쿠글 여름 스터디/2주차 자료/part2/read_json_sample.json')\n",
    "print(df)\n",
    "print(df.index)"
   ]
  },
  {
   "cell_type": "markdown",
   "id": "66ed04b0",
   "metadata": {},
   "source": [
    "# 2. 웹에서 가져오기"
   ]
  },
  {
   "cell_type": "markdown",
   "id": "9ece2862",
   "metadata": {},
   "source": [
    "# 2.1 HTML 웹 페이지에서 표 속성 가져오기"
   ]
  },
  {
   "cell_type": "code",
   "execution_count": 24,
   "id": "c0836403",
   "metadata": {},
   "outputs": [
    {
     "name": "stdout",
     "output_type": "stream",
     "text": [
      "[   Unnamed: 0  c0  c1  c2  c3\n",
      "0           0   0   1   4   7\n",
      "1           1   1   2   5   8\n",
      "2           2   2   3   6   9,          name  year        developer  opensource\n",
      "0       NumPy  2006  Travis Oliphant        True\n",
      "1  matplotlib  2003   John D. Hunter        True\n",
      "2      pandas  2008    Wes Mckinneye        True]\n",
      "2\n",
      "tables[0]\n",
      "   Unnamed: 0  c0  c1  c2  c3\n",
      "0           0   0   1   4   7\n",
      "1           1   1   2   5   8\n",
      "2           2   2   3   6   9\n",
      "tables[1]\n",
      "         name  year        developer  opensource\n",
      "0       NumPy  2006  Travis Oliphant        True\n",
      "1  matplotlib  2003   John D. Hunter        True\n",
      "2      pandas  2008    Wes Mckinneye        True\n",
      "            year        developer  opensource\n",
      "name                                         \n",
      "NumPy       2006  Travis Oliphant        True\n",
      "matplotlib  2003   John D. Hunter        True\n",
      "pandas      2008    Wes Mckinneye        True\n"
     ]
    }
   ],
   "source": [
    "url='C:/Users/user/Desktop/쿠글 여름 스터디/2주차 자료/part2/sample.html'\n",
    "tables=pd.read_html(url)\n",
    "\n",
    "print(len(tables))\n",
    "for i in range(len(tables)):\n",
    "    print(\"tables[%s]\" % i)\n",
    "    print(tables[i])\n",
    "    \n",
    "df=tables[1]\n",
    "\n",
    "df.set_index(['name'],inplace=True)\n",
    "print(df)"
   ]
  },
  {
   "cell_type": "markdown",
   "id": "f9fa272f",
   "metadata": {},
   "source": [
    "# 4. 데이터 저장하기"
   ]
  },
  {
   "cell_type": "markdown",
   "id": "6d3bad10",
   "metadata": {},
   "source": [
    "# 4.1~4.3 파일로 저장"
   ]
  },
  {
   "cell_type": "code",
   "execution_count": 27,
   "id": "add3a8b9",
   "metadata": {},
   "outputs": [
    {
     "name": "stdout",
     "output_type": "stream",
     "text": [
      "      algol basic c++\n",
      "name                 \n",
      "Jerry     A     C  B+\n",
      "Rish     A+     B   C\n",
      "Paul      B    B+  C+\n"
     ]
    }
   ],
   "source": [
    "data={'name': ['Jerry','Rish','Paul'],\n",
    "     'algol': [\"A\",\"A+\",\"B\"],\n",
    "     'basic': [\"C\",\"B\",\"B+\"],\n",
    "     'c++':[\"B+\",\"C\",\"C+\"]}\n",
    "df=pd.DataFrame(data)\n",
    "df.set_index('name',inplace=True)\n",
    "print(df)\n",
    "\n",
    "df.to_csv('C:/Users/user/Desktop/쿠글 여름 스터디/2주차 자료/part2/df_sample1.csv')  #csv 파일로 저장\n",
    "df.to_json('C:/Users/user/Desktop/쿠글 여름 스터디/2주차 자료/part2/df_sample2.json')  #json 파일로 저장\n",
    "df.to_excel('C:/Users/user/Desktop/쿠글 여름 스터디/2주차 자료/part2/df_sample3.xlsx')  #excel 파일로 저장  "
   ]
  },
  {
   "cell_type": "markdown",
   "id": "09e5dd79",
   "metadata": {},
   "source": [
    "# 4.4 여러개의 df를 하나의 excel 파일로 저장"
   ]
  },
  {
   "cell_type": "code",
   "execution_count": 30,
   "id": "18b80c90",
   "metadata": {},
   "outputs": [
    {
     "name": "stdout",
     "output_type": "stream",
     "text": [
      "      algol basic c++\n",
      "name                 \n",
      "Jerry     A     C  B+\n",
      "Rish     A+     B   C\n",
      "Paul      B    B+  C+\n",
      "    c1  c2  c3  c4\n",
      "c0                \n",
      "1    4   7  10  13\n",
      "2    5   8  11  14\n",
      "3    6   9  12  15\n"
     ]
    }
   ],
   "source": [
    "data1={'name': ['Jerry','Rish','Paul'],\n",
    "     'algol': [\"A\",\"A+\",\"B\"],\n",
    "     'basic': [\"C\",\"B\",\"B+\"],\n",
    "     'c++':[\"B+\",\"C\",\"C+\"]}\n",
    "data2={'c0':[1,2,3],\n",
    "      'c1':[4,5,6],\n",
    "      'c2':[7,8,9],\n",
    "      'c3':[10,11,12],\n",
    "      'c4':[13,14,15]}\n",
    "\n",
    "df1=pd.DataFrame(data1)\n",
    "df1.set_index('name',inplace=True)\n",
    "df2=pd.DataFrame(data2)\n",
    "df2.set_index('c0',inplace=True)\n",
    "\n",
    "print(df1)\n",
    "print(df2)"
   ]
  },
  {
   "cell_type": "code",
   "execution_count": 31,
   "id": "878d53ca",
   "metadata": {},
   "outputs": [],
   "source": [
    "writer=pd.ExcelWriter(\"C:/Users/user/Desktop/쿠글 여름 스터디/2주차 자료/part2/df_excelwriter.xlsx\")\n",
    "df1.to_excel(writer,sheet_name=\"sheet1\")\n",
    "df2.to_excel(writer,sheet_name=\"sheet2\")\n",
    "writer.save()"
   ]
  }
 ],
 "metadata": {
  "kernelspec": {
   "display_name": "Python 3 (ipykernel)",
   "language": "python",
   "name": "python3"
  },
  "language_info": {
   "codemirror_mode": {
    "name": "ipython",
    "version": 3
   },
   "file_extension": ".py",
   "mimetype": "text/x-python",
   "name": "python",
   "nbconvert_exporter": "python",
   "pygments_lexer": "ipython3",
   "version": "3.9.7"
  }
 },
 "nbformat": 4,
 "nbformat_minor": 5
}
