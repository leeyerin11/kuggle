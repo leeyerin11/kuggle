{
 "cells": [
  {
   "cell_type": "markdown",
   "id": "b2dc9b22",
   "metadata": {},
   "source": [
    "# 6.4 데이터프레임 합치기"
   ]
  },
  {
   "cell_type": "markdown",
   "id": "99737ce5",
   "metadata": {},
   "source": [
    "(1) 데이터프레임 연결"
   ]
  },
  {
   "cell_type": "code",
   "execution_count": 1,
   "id": "705c5c6d",
   "metadata": {},
   "outputs": [
    {
     "name": "stdout",
     "output_type": "stream",
     "text": [
      "    a   b   c\n",
      "0  a0  b0  c0\n",
      "1  a1  b1  c1\n",
      "2  a2  b2  c2\n",
      "3  a3  b3  c3 \n",
      "\n",
      "    a   b   c   d\n",
      "2  a2  b2  c2  d2\n",
      "3  a3  b3  c3  d3\n",
      "4  a4  b4  c4  d4\n",
      "5  a5  b5  c5  d5 \n",
      "\n",
      "    a   b   c    d\n",
      "0  a0  b0  c0  NaN\n",
      "1  a1  b1  c1  NaN\n",
      "2  a2  b2  c2  NaN\n",
      "3  a3  b3  c3  NaN\n",
      "2  a2  b2  c2   d2\n",
      "3  a3  b3  c3   d3\n",
      "4  a4  b4  c4   d4\n",
      "5  a5  b5  c5   d5 \n",
      "\n"
     ]
    }
   ],
   "source": [
    "import pandas as pd\n",
    "\n",
    "df1=pd.DataFrame({'a':['a0','a1','a2','a3'],\n",
    "                 'b':['b0','b1','b2','b3'],\n",
    "                 'c':['c0','c1','c2','c3']},\n",
    "                index=[0,1,2,3])\n",
    "df2=pd.DataFrame({'a':['a2','a3','a4','a5'],\n",
    "                 'b':['b2','b3','b4','b5'],\n",
    "                 'c':['c2','c3','c4','c5'],\n",
    "                 'd':['d2','d3','d4','d5']},\n",
    "                index=[2,3,4,5])\n",
    "print(df1,'\\n')\n",
    "print(df2,'\\n')\n",
    "\n",
    "result1=pd.concat([df1,df2])   #행방향 병합\n",
    "print(result1,'\\n')"
   ]
  },
  {
   "cell_type": "code",
   "execution_count": 2,
   "id": "87bc0f0d",
   "metadata": {},
   "outputs": [
    {
     "name": "stdout",
     "output_type": "stream",
     "text": [
      "    a   b   c    d\n",
      "0  a0  b0  c0  NaN\n",
      "1  a1  b1  c1  NaN\n",
      "2  a2  b2  c2  NaN\n",
      "3  a3  b3  c3  NaN\n",
      "4  a2  b2  c2   d2\n",
      "5  a3  b3  c3   d3\n",
      "6  a4  b4  c4   d4\n",
      "7  a5  b5  c5   d5 \n",
      "\n"
     ]
    }
   ],
   "source": [
    "result2=pd.concat([df1,df2],ignore_index=True)   #기존 행 인덱스 무시\n",
    "print(result2,'\\n')"
   ]
  },
  {
   "cell_type": "code",
   "execution_count": 3,
   "id": "ed2c637d",
   "metadata": {},
   "outputs": [
    {
     "name": "stdout",
     "output_type": "stream",
     "text": [
      "     a    b    c    a    b    c    d\n",
      "0   a0   b0   c0  NaN  NaN  NaN  NaN\n",
      "1   a1   b1   c1  NaN  NaN  NaN  NaN\n",
      "2   a2   b2   c2   a2   b2   c2   d2\n",
      "3   a3   b3   c3   a3   b3   c3   d3\n",
      "4  NaN  NaN  NaN   a4   b4   c4   d4\n",
      "5  NaN  NaN  NaN   a5   b5   c5   d5\n"
     ]
    }
   ],
   "source": [
    "result3=pd.concat([df1,df2],axis=1)   #열 방향 연결\n",
    "print(result3)"
   ]
  },
  {
   "cell_type": "code",
   "execution_count": 4,
   "id": "7f6d50b8",
   "metadata": {},
   "outputs": [
    {
     "name": "stdout",
     "output_type": "stream",
     "text": [
      "    a   b   c   a   b   c   d\n",
      "2  a2  b2  c2  a2  b2  c2  d2\n",
      "3  a3  b3  c3  a3  b3  c3  d3\n"
     ]
    }
   ],
   "source": [
    "result3_in=pd.concat([df1,df2],axis=1,join='inner')   #열 방향 공통된 행만 연결\n",
    "print(result3_in)"
   ]
  },
  {
   "cell_type": "code",
   "execution_count": 5,
   "id": "0f408aa7",
   "metadata": {},
   "outputs": [
    {
     "name": "stdout",
     "output_type": "stream",
     "text": [
      "    a   b   c   e\n",
      "0  a0  b0  c0  e0\n",
      "1  a1  b1  c1  e1\n",
      "2  a2  b2  c2  e2\n",
      "3  a3  b3  c3  e3\n",
      "    a   b   c   d    f\n",
      "2  a2  b2  c2  d2  NaN\n",
      "3  a3  b3  c3  d3   f0\n",
      "4  a4  b4  c4  d4   f1\n",
      "5  a5  b5  c5  d5   f2\n"
     ]
    }
   ],
   "source": [
    "#데이터프레임과 시리즈 열 연결\n",
    "sr1=pd.Series(['e0','e1','e2','e3'],name='e')\n",
    "sr2=pd.Series(['f0','f1','f2'],name='f',index=[3,4,5])\n",
    "sr3=pd.Series(['g0','g1','g2','g3'],name='g')\n",
    "\n",
    "result4=pd.concat([df1,sr1],axis=1)\n",
    "print(result4)\n",
    "\n",
    "result=pd.concat([df2,sr2],axis=1,sort=True)\n",
    "print(result)"
   ]
  },
  {
   "cell_type": "code",
   "execution_count": 6,
   "id": "80361757",
   "metadata": {},
   "outputs": [
    {
     "name": "stdout",
     "output_type": "stream",
     "text": [
      "    e   g\n",
      "0  e0  g0\n",
      "1  e1  g1\n",
      "2  e2  g2\n",
      "3  e3  g3\n",
      "0    e0\n",
      "1    e1\n",
      "2    e2\n",
      "3    e3\n",
      "0    g0\n",
      "1    g1\n",
      "2    g2\n",
      "3    g3\n",
      "dtype: object\n"
     ]
    }
   ],
   "source": [
    "result6=pd.concat([sr1,sr3],axis=1)\n",
    "print(result6)\n",
    "\n",
    "result7=pd.concat([sr1,sr3],axis=0)\n",
    "print(result7)"
   ]
  },
  {
   "cell_type": "markdown",
   "id": "9301f848",
   "metadata": {},
   "source": [
    "(3) 데이터프레임 병합"
   ]
  },
  {
   "cell_type": "code",
   "execution_count": 7,
   "id": "017a40d2",
   "metadata": {},
   "outputs": [
    {
     "name": "stdout",
     "output_type": "stream",
     "text": [
      "       id    stock_name          value   price\n",
      "0  128940      한미약품   59385.666667  421000\n",
      "1  130960        CJ E&M   58540.666667   98900\n",
      "2  138250    엔에스쇼핑   14558.666667   13200\n",
      "3  139480        이마트  239230.833333  254500\n",
      "4  142280  녹십자엠에스     468.833333   10200\n",
      "5  145990        삼양사   82750.000000   82000\n",
      "6  185750        종근당   40293.666667  100500\n",
      "7  192400    쿠쿠홀딩스  179204.666667  177500\n",
      "8  199800          툴젠   -2514.333333  115400\n",
      "9  204210  모두투어리츠    3093.333333    3475\n",
      "\n",
      "\n",
      "       id              name           eps     bps        per       pbr\n",
      "0  130960            CJ E&M   6301.333333   54068  15.695091  1.829178\n",
      "1  136480              하림    274.166667    3551  11.489362  0.887074\n",
      "2  138040    메리츠금융지주   2122.333333   14894   6.313806  0.899691\n",
      "3  139480            이마트  18268.166667  295780  13.931338  0.860437\n",
      "4  145990            삼양사   5741.000000  108090  14.283226  0.758627\n",
      "5  161390        한국타이어   5648.500000   51341   7.453306  0.820007\n",
      "6  181710   NHN엔터테인먼트   2110.166667   78434  30.755864  0.827447\n",
      "7  185750            종근당   3990.333333   40684  25.185866  2.470259\n",
      "8  204210      모두투어리츠     85.166667    5335  40.802348  0.651359\n",
      "9  207940  삼성바이오로직스   4644.166667   60099  89.790059  6.938551\n"
     ]
    }
   ],
   "source": [
    "pd.set_option('display.max_columns',10)\n",
    "pd.set_option('display.max_colwidth',20)\n",
    "pd.set_option('display.unicode.east_asian_width',True)\n",
    "\n",
    "df1=pd.read_excel('C:/Users/user/Desktop/쿠글 여름 스터디/2주차 자료/part6/stock price.xlsx')\n",
    "df2=pd.read_excel('C:/Users/user/Desktop/쿠글 여름 스터디/2주차 자료/part6/stock valuation.xlsx')\n",
    "\n",
    "print(df1)\n",
    "print('\\n')\n",
    "print(df2)"
   ]
  },
  {
   "cell_type": "code",
   "execution_count": 8,
   "id": "491a6090",
   "metadata": {
    "scrolled": false
   },
   "outputs": [
    {
     "name": "stdout",
     "output_type": "stream",
     "text": [
      "       id    stock_name          value   price          name           eps  \\\n",
      "0  130960        CJ E&M   58540.666667   98900        CJ E&M   6301.333333   \n",
      "1  139480        이마트  239230.833333  254500        이마트  18268.166667   \n",
      "2  145990        삼양사   82750.000000   82000        삼양사   5741.000000   \n",
      "3  185750        종근당   40293.666667  100500        종근당   3990.333333   \n",
      "4  204210  모두투어리츠    3093.333333    3475  모두투어리츠     85.166667   \n",
      "\n",
      "      bps        per       pbr  \n",
      "0   54068  15.695091  1.829178  \n",
      "1  295780  13.931338  0.860437  \n",
      "2  108090  14.283226  0.758627  \n",
      "3   40684  25.185866  2.470259  \n",
      "4    5335  40.802348  0.651359  \n"
     ]
    }
   ],
   "source": [
    "merge_inner=pd.merge(df1,df2)\n",
    "print(merge_inner)"
   ]
  },
  {
   "cell_type": "code",
   "execution_count": 9,
   "id": "72d36f92",
   "metadata": {},
   "outputs": [
    {
     "name": "stdout",
     "output_type": "stream",
     "text": [
      "        id    stock_name          value     price              name  \\\n",
      "0   128940      한미약품   59385.666667  421000.0               NaN   \n",
      "1   130960        CJ E&M   58540.666667   98900.0            CJ E&M   \n",
      "2   138250    엔에스쇼핑   14558.666667   13200.0               NaN   \n",
      "3   139480        이마트  239230.833333  254500.0            이마트   \n",
      "4   142280  녹십자엠에스     468.833333   10200.0               NaN   \n",
      "5   145990        삼양사   82750.000000   82000.0            삼양사   \n",
      "6   185750        종근당   40293.666667  100500.0            종근당   \n",
      "7   192400    쿠쿠홀딩스  179204.666667  177500.0               NaN   \n",
      "8   199800          툴젠   -2514.333333  115400.0               NaN   \n",
      "9   204210  모두투어리츠    3093.333333    3475.0      모두투어리츠   \n",
      "10  136480           NaN            NaN       NaN              하림   \n",
      "11  138040           NaN            NaN       NaN    메리츠금융지주   \n",
      "12  161390           NaN            NaN       NaN        한국타이어   \n",
      "13  181710           NaN            NaN       NaN   NHN엔터테인먼트   \n",
      "14  207940           NaN            NaN       NaN  삼성바이오로직스   \n",
      "\n",
      "             eps       bps        per       pbr  \n",
      "0            NaN       NaN        NaN       NaN  \n",
      "1    6301.333333   54068.0  15.695091  1.829178  \n",
      "2            NaN       NaN        NaN       NaN  \n",
      "3   18268.166667  295780.0  13.931338  0.860437  \n",
      "4            NaN       NaN        NaN       NaN  \n",
      "5    5741.000000  108090.0  14.283226  0.758627  \n",
      "6    3990.333333   40684.0  25.185866  2.470259  \n",
      "7            NaN       NaN        NaN       NaN  \n",
      "8            NaN       NaN        NaN       NaN  \n",
      "9      85.166667    5335.0  40.802348  0.651359  \n",
      "10    274.166667    3551.0  11.489362  0.887074  \n",
      "11   2122.333333   14894.0   6.313806  0.899691  \n",
      "12   5648.500000   51341.0   7.453306  0.820007  \n",
      "13   2110.166667   78434.0  30.755864  0.827447  \n",
      "14   4644.166667   60099.0  89.790059  6.938551  \n"
     ]
    }
   ],
   "source": [
    "merge_outer=pd.merge(df1,df2,how='outer',on='id')\n",
    "print(merge_outer)"
   ]
  },
  {
   "cell_type": "code",
   "execution_count": 10,
   "id": "0d5ab125",
   "metadata": {},
   "outputs": [
    {
     "name": "stdout",
     "output_type": "stream",
     "text": [
      "     id_x    stock_name          value   price      id_y          name  \\\n",
      "0  128940      한미약품   59385.666667  421000       NaN           NaN   \n",
      "1  130960        CJ E&M   58540.666667   98900  130960.0        CJ E&M   \n",
      "2  138250    엔에스쇼핑   14558.666667   13200       NaN           NaN   \n",
      "3  139480        이마트  239230.833333  254500  139480.0        이마트   \n",
      "4  142280  녹십자엠에스     468.833333   10200       NaN           NaN   \n",
      "5  145990        삼양사   82750.000000   82000  145990.0        삼양사   \n",
      "6  185750        종근당   40293.666667  100500  185750.0        종근당   \n",
      "7  192400    쿠쿠홀딩스  179204.666667  177500       NaN           NaN   \n",
      "8  199800          툴젠   -2514.333333  115400       NaN           NaN   \n",
      "9  204210  모두투어리츠    3093.333333    3475  204210.0  모두투어리츠   \n",
      "\n",
      "            eps       bps        per       pbr  \n",
      "0           NaN       NaN        NaN       NaN  \n",
      "1   6301.333333   54068.0  15.695091  1.829178  \n",
      "2           NaN       NaN        NaN       NaN  \n",
      "3  18268.166667  295780.0  13.931338  0.860437  \n",
      "4           NaN       NaN        NaN       NaN  \n",
      "5   5741.000000  108090.0  14.283226  0.758627  \n",
      "6   3990.333333   40684.0  25.185866  2.470259  \n",
      "7           NaN       NaN        NaN       NaN  \n",
      "8           NaN       NaN        NaN       NaN  \n",
      "9     85.166667    5335.0  40.802348  0.651359  \n"
     ]
    }
   ],
   "source": [
    "merge_left=pd.merge(df1,df2,how='left',left_on='stock_name',right_on='name')\n",
    "print(merge_left)"
   ]
  },
  {
   "cell_type": "code",
   "execution_count": 11,
   "id": "fb2bed1e",
   "metadata": {},
   "outputs": [
    {
     "name": "stdout",
     "output_type": "stream",
     "text": [
      "       id_x    stock_name          value     price    id_y              name  \\\n",
      "0  130960.0        CJ E&M   58540.666667   98900.0  130960            CJ E&M   \n",
      "1       NaN           NaN            NaN       NaN  136480              하림   \n",
      "2       NaN           NaN            NaN       NaN  138040    메리츠금융지주   \n",
      "3  139480.0        이마트  239230.833333  254500.0  139480            이마트   \n",
      "4  145990.0        삼양사   82750.000000   82000.0  145990            삼양사   \n",
      "5       NaN           NaN            NaN       NaN  161390        한국타이어   \n",
      "6       NaN           NaN            NaN       NaN  181710   NHN엔터테인먼트   \n",
      "7  185750.0        종근당   40293.666667  100500.0  185750            종근당   \n",
      "8  204210.0  모두투어리츠    3093.333333    3475.0  204210      모두투어리츠   \n",
      "9       NaN           NaN            NaN       NaN  207940  삼성바이오로직스   \n",
      "\n",
      "            eps     bps        per       pbr  \n",
      "0   6301.333333   54068  15.695091  1.829178  \n",
      "1    274.166667    3551  11.489362  0.887074  \n",
      "2   2122.333333   14894   6.313806  0.899691  \n",
      "3  18268.166667  295780  13.931338  0.860437  \n",
      "4   5741.000000  108090  14.283226  0.758627  \n",
      "5   5648.500000   51341   7.453306  0.820007  \n",
      "6   2110.166667   78434  30.755864  0.827447  \n",
      "7   3990.333333   40684  25.185866  2.470259  \n",
      "8     85.166667    5335  40.802348  0.651359  \n",
      "9   4644.166667   60099  89.790059  6.938551  \n"
     ]
    }
   ],
   "source": [
    "merge_right=pd.merge(df1,df2,how='right',left_on='stock_name',right_on='name')\n",
    "print(merge_right)"
   ]
  },
  {
   "cell_type": "code",
   "execution_count": 12,
   "id": "c4519126",
   "metadata": {},
   "outputs": [
    {
     "name": "stdout",
     "output_type": "stream",
     "text": [
      "       id    stock_name         value  price\n",
      "2  138250    엔에스쇼핑  14558.666667  13200\n",
      "4  142280  녹십자엠에스    468.833333  10200\n",
      "9  204210  모두투어리츠   3093.333333   3475\n",
      "       id    stock_name        value  price          name        eps   bps  \\\n",
      "0  204210  모두투어리츠  3093.333333   3475  모두투어리츠  85.166667  5335   \n",
      "\n",
      "         per       pbr  \n",
      "0  40.802348  0.651359  \n"
     ]
    }
   ],
   "source": [
    "price=df1[df1['price']<50000]\n",
    "print(price.head())\n",
    "\n",
    "value=pd.merge(price,df2)\n",
    "print(value)   #가격이 50000미만이면서 valuation을 가진 지표"
   ]
  },
  {
   "cell_type": "markdown",
   "id": "9f792330",
   "metadata": {},
   "source": [
    "(3) 데이터프레임 결합"
   ]
  },
  {
   "cell_type": "code",
   "execution_count": 13,
   "id": "4a616f70",
   "metadata": {},
   "outputs": [
    {
     "name": "stdout",
     "output_type": "stream",
     "text": [
      "          stock_name          value   price          name           eps  \\\n",
      "id                                                                        \n",
      "128940      한미약품   59385.666667  421000           NaN           NaN   \n",
      "130960        CJ E&M   58540.666667   98900        CJ E&M   6301.333333   \n",
      "138250    엔에스쇼핑   14558.666667   13200           NaN           NaN   \n",
      "139480        이마트  239230.833333  254500        이마트  18268.166667   \n",
      "142280  녹십자엠에스     468.833333   10200           NaN           NaN   \n",
      "145990        삼양사   82750.000000   82000        삼양사   5741.000000   \n",
      "185750        종근당   40293.666667  100500        종근당   3990.333333   \n",
      "192400    쿠쿠홀딩스  179204.666667  177500           NaN           NaN   \n",
      "199800          툴젠   -2514.333333  115400           NaN           NaN   \n",
      "204210  모두투어리츠    3093.333333    3475  모두투어리츠     85.166667   \n",
      "\n",
      "             bps        per       pbr  \n",
      "id                                     \n",
      "128940       NaN        NaN       NaN  \n",
      "130960   54068.0  15.695091  1.829178  \n",
      "138250       NaN        NaN       NaN  \n",
      "139480  295780.0  13.931338  0.860437  \n",
      "142280       NaN        NaN       NaN  \n",
      "145990  108090.0  14.283226  0.758627  \n",
      "185750   40684.0  25.185866  2.470259  \n",
      "192400       NaN        NaN       NaN  \n",
      "199800       NaN        NaN       NaN  \n",
      "204210    5335.0  40.802348  0.651359  \n"
     ]
    }
   ],
   "source": [
    "df1=pd.read_excel('C:/Users/user/Desktop/쿠글 여름 스터디/2주차 자료/part6/stock price.xlsx',index_col='id')\n",
    "df2=pd.read_excel('C:/Users/user/Desktop/쿠글 여름 스터디/2주차 자료/part6/stock valuation.xlsx',index_col='id')  #id를 행 인덱스로\n",
    "\n",
    "df3=df1.join(df2)   #how=left가 기본\n",
    "print(df3)"
   ]
  },
  {
   "cell_type": "code",
   "execution_count": 14,
   "id": "fe112faf",
   "metadata": {},
   "outputs": [
    {
     "name": "stdout",
     "output_type": "stream",
     "text": [
      "          stock_name          value   price          name           eps  \\\n",
      "id                                                                        \n",
      "130960        CJ E&M   58540.666667   98900        CJ E&M   6301.333333   \n",
      "139480        이마트  239230.833333  254500        이마트  18268.166667   \n",
      "145990        삼양사   82750.000000   82000        삼양사   5741.000000   \n",
      "185750        종근당   40293.666667  100500        종근당   3990.333333   \n",
      "204210  모두투어리츠    3093.333333    3475  모두투어리츠     85.166667   \n",
      "\n",
      "           bps        per       pbr  \n",
      "id                                   \n",
      "130960   54068  15.695091  1.829178  \n",
      "139480  295780  13.931338  0.860437  \n",
      "145990  108090  14.283226  0.758627  \n",
      "185750   40684  25.185866  2.470259  \n",
      "204210    5335  40.802348  0.651359  \n"
     ]
    }
   ],
   "source": [
    "df4=df1.join(df2,how='inner')   #공통된 것만\n",
    "print(df4)"
   ]
  },
  {
   "cell_type": "markdown",
   "id": "0cce311d",
   "metadata": {},
   "source": [
    "# 6.5 그룹연산"
   ]
  },
  {
   "cell_type": "markdown",
   "id": "82b38c0d",
   "metadata": {},
   "source": [
    "(1) 그룹 객체 만들기(분할단계)"
   ]
  },
  {
   "cell_type": "code",
   "execution_count": 15,
   "id": "1889b864",
   "metadata": {},
   "outputs": [
    {
     "name": "stdout",
     "output_type": "stream",
     "text": [
      "승객 수: 891\n",
      "    age     sex  class     fare  survived\n",
      "0  22.0    male  Third   7.2500         0\n",
      "1  38.0  female  First  71.2833         1\n",
      "2  26.0  female  Third   7.9250         1\n",
      "3  35.0  female  First  53.1000         1\n",
      "4  35.0    male  Third   8.0500         0\n",
      "\n",
      "\n",
      "<pandas.core.groupby.generic.DataFrameGroupBy object at 0x000001682F0DA2E0>\n"
     ]
    }
   ],
   "source": [
    "import pandas as pd\n",
    "import seaborn as sns\n",
    "\n",
    "titanic=sns.load_dataset('titanic')\n",
    "df=titanic.loc[:,['age','sex','class','fare','survived']]\n",
    "\n",
    "print('승객 수:',len(df))\n",
    "print(df.head())\n",
    "print('\\n')\n",
    "\n",
    "grouped=df.groupby(['class'])\n",
    "print(grouped)"
   ]
  },
  {
   "cell_type": "code",
   "execution_count": 16,
   "id": "fef1a7ac",
   "metadata": {},
   "outputs": [
    {
     "name": "stdout",
     "output_type": "stream",
     "text": [
      "*key: First\n",
      "*number: 216\n",
      "     age     sex  class     fare  survived\n",
      "1   38.0  female  First  71.2833         1\n",
      "3   35.0  female  First  53.1000         1\n",
      "6   54.0    male  First  51.8625         0\n",
      "11  58.0  female  First  26.5500         1\n",
      "23  28.0    male  First  35.5000         1\n",
      "\n",
      "\n",
      "*key: Second\n",
      "*number: 184\n",
      "     age     sex   class     fare  survived\n",
      "9   14.0  female  Second  30.0708         1\n",
      "15  55.0  female  Second  16.0000         1\n",
      "17   NaN    male  Second  13.0000         1\n",
      "20  35.0    male  Second  26.0000         0\n",
      "21  34.0    male  Second  13.0000         1\n",
      "\n",
      "\n",
      "*key: Third\n",
      "*number: 491\n",
      "    age     sex  class     fare  survived\n",
      "0  22.0    male  Third   7.2500         0\n",
      "2  26.0  female  Third   7.9250         1\n",
      "4  35.0    male  Third   8.0500         0\n",
      "5   NaN    male  Third   8.4583         0\n",
      "7   2.0    male  Third  21.0750         0\n",
      "\n",
      "\n"
     ]
    }
   ],
   "source": [
    "for key,group in grouped:\n",
    "    print('*key:',key)       #ket는 first, second,third\n",
    "    print('*number:',len(group))\n",
    "    print(group.head())\n",
    "    print('\\n')"
   ]
  },
  {
   "cell_type": "code",
   "execution_count": 17,
   "id": "a2695e06",
   "metadata": {},
   "outputs": [
    {
     "name": "stdout",
     "output_type": "stream",
     "text": [
      "              age       fare  survived\n",
      "class                                 \n",
      "First   38.233441  84.154687  0.629630\n",
      "Second  29.877630  20.662183  0.472826\n",
      "Third   25.140620  13.675550  0.242363\n"
     ]
    }
   ],
   "source": [
    "#연산메소드\n",
    "average=grouped.mean()\n",
    "print(average)"
   ]
  },
  {
   "cell_type": "code",
   "execution_count": 18,
   "id": "0e608b92",
   "metadata": {},
   "outputs": [
    {
     "name": "stdout",
     "output_type": "stream",
     "text": [
      "    age     sex  class     fare  survived\n",
      "0  22.0    male  Third   7.2500         0\n",
      "2  26.0  female  Third   7.9250         1\n",
      "4  35.0    male  Third   8.0500         0\n",
      "5   NaN    male  Third   8.4583         0\n",
      "7   2.0    male  Third  21.0750         0\n"
     ]
    }
   ],
   "source": [
    "group3=grouped.get_group('Third')\n",
    "print(group3.head())"
   ]
  },
  {
   "cell_type": "code",
   "execution_count": 19,
   "id": "0b1ad347",
   "metadata": {},
   "outputs": [
    {
     "name": "stdout",
     "output_type": "stream",
     "text": [
      "*key: ('First', 'female')\n",
      "*number: 94\n",
      "     age     sex  class      fare  survived\n",
      "1   38.0  female  First   71.2833         1\n",
      "3   35.0  female  First   53.1000         1\n",
      "11  58.0  female  First   26.5500         1\n",
      "31   NaN  female  First  146.5208         1\n",
      "52  49.0  female  First   76.7292         1\n",
      "\n",
      "\n",
      "*key: ('First', 'male')\n",
      "*number: 122\n",
      "     age   sex  class      fare  survived\n",
      "6   54.0  male  First   51.8625         0\n",
      "23  28.0  male  First   35.5000         1\n",
      "27  19.0  male  First  263.0000         0\n",
      "30  40.0  male  First   27.7208         0\n",
      "34  28.0  male  First   82.1708         0\n",
      "\n",
      "\n",
      "*key: ('Second', 'female')\n",
      "*number: 76\n",
      "     age     sex   class     fare  survived\n",
      "9   14.0  female  Second  30.0708         1\n",
      "15  55.0  female  Second  16.0000         1\n",
      "41  27.0  female  Second  21.0000         0\n",
      "43   3.0  female  Second  41.5792         1\n",
      "53  29.0  female  Second  26.0000         1\n",
      "\n",
      "\n",
      "*key: ('Second', 'male')\n",
      "*number: 108\n",
      "     age   sex   class  fare  survived\n",
      "17   NaN  male  Second  13.0         1\n",
      "20  35.0  male  Second  26.0         0\n",
      "21  34.0  male  Second  13.0         1\n",
      "33  66.0  male  Second  10.5         0\n",
      "70  32.0  male  Second  10.5         0\n",
      "\n",
      "\n",
      "*key: ('Third', 'female')\n",
      "*number: 144\n",
      "     age     sex  class     fare  survived\n",
      "2   26.0  female  Third   7.9250         1\n",
      "8   27.0  female  Third  11.1333         1\n",
      "10   4.0  female  Third  16.7000         1\n",
      "14  14.0  female  Third   7.8542         0\n",
      "18  31.0  female  Third  18.0000         0\n",
      "\n",
      "\n",
      "*key: ('Third', 'male')\n",
      "*number: 347\n",
      "     age   sex  class     fare  survived\n",
      "0   22.0  male  Third   7.2500         0\n",
      "4   35.0  male  Third   8.0500         0\n",
      "5    NaN  male  Third   8.4583         0\n",
      "7    2.0  male  Third  21.0750         0\n",
      "12  20.0  male  Third   8.0500         0\n",
      "\n",
      "\n"
     ]
    }
   ],
   "source": [
    "#여러 열을 기준으로 그룸화\n",
    "grouped_two=df.groupby(['class','sex'])\n",
    "for key,group in grouped_two:\n",
    "    print('*key:',key)\n",
    "    print('*number:',len(group))\n",
    "    print(group.head())\n",
    "    print('\\n')"
   ]
  },
  {
   "cell_type": "code",
   "execution_count": 20,
   "id": "33c800a9",
   "metadata": {},
   "outputs": [
    {
     "name": "stdout",
     "output_type": "stream",
     "text": [
      "                     age        fare  survived\n",
      "class  sex                                    \n",
      "First  female  34.611765  106.125798  0.968085\n",
      "       male    41.281386   67.226127  0.368852\n",
      "Second female  28.722973   21.970121  0.921053\n",
      "       male    30.740707   19.741782  0.157407\n",
      "Third  female  21.750000   16.118810  0.500000\n",
      "       male    26.507589   12.661633  0.135447\n",
      "<class 'pandas.core.frame.DataFrame'>\n"
     ]
    }
   ],
   "source": [
    "average_two=grouped_two.mean()\n",
    "print(average_two)\n",
    "print(type(average_two))"
   ]
  },
  {
   "cell_type": "code",
   "execution_count": 21,
   "id": "bf974127",
   "metadata": {},
   "outputs": [
    {
     "name": "stdout",
     "output_type": "stream",
     "text": [
      "      age     sex  class     fare  survived\n",
      "2    26.0  female  Third   7.9250         1\n",
      "8    27.0  female  Third  11.1333         1\n",
      "10    4.0  female  Third  16.7000         1\n",
      "14   14.0  female  Third   7.8542         0\n",
      "18   31.0  female  Third  18.0000         0\n",
      "..    ...     ...    ...      ...       ...\n",
      "863   NaN  female  Third  69.5500         0\n",
      "875  15.0  female  Third   7.2250         1\n",
      "882  22.0  female  Third  10.5167         0\n",
      "885  39.0  female  Third  29.1250         0\n",
      "888   NaN  female  Third  23.4500         0\n",
      "\n",
      "[144 rows x 5 columns]\n"
     ]
    }
   ],
   "source": [
    "group3f=grouped_two.get_group(('Third','female'))  #특정그룹만 추출\n",
    "print(group3f)"
   ]
  },
  {
   "cell_type": "markdown",
   "id": "6bc10abc",
   "metadata": {},
   "source": [
    "(2) 그룹 연산 메소드(적용-결합 단계)"
   ]
  },
  {
   "cell_type": "code",
   "execution_count": 22,
   "id": "2d6a52ce",
   "metadata": {},
   "outputs": [
    {
     "name": "stdout",
     "output_type": "stream",
     "text": [
      "              age       fare  survived\n",
      "class                                 \n",
      "First   14.802856  78.380373  0.484026\n",
      "Second  14.001077  13.417399  0.500623\n",
      "Third   12.495398  11.778142  0.428949\n",
      "\n",
      "\n",
      "<class 'pandas.core.frame.DataFrame'>\n",
      "\n",
      "\n",
      "class\n",
      "First     78.380373\n",
      "Second    13.417399\n",
      "Third     11.778142\n",
      "Name: fare, dtype: float64\n"
     ]
    }
   ],
   "source": [
    "#데이터 집계\n",
    "std_all=grouped.std()\n",
    "print(std_all)\n",
    "print('\\n')\n",
    "print(type(std_all))\n",
    "print('\\n')\n",
    "\n",
    "std_fare=grouped.fare.std()\n",
    "print(std_fare)"
   ]
  },
  {
   "cell_type": "code",
   "execution_count": 23,
   "id": "f29c6b81",
   "metadata": {},
   "outputs": [
    {
     "name": "stdout",
     "output_type": "stream",
     "text": [
      "          age      fare  survived\n",
      "class                            \n",
      "First   79.08  512.3292         1\n",
      "Second  69.33   73.5000         1\n",
      "Third   73.58   69.5500         1\n"
     ]
    },
    {
     "name": "stderr",
     "output_type": "stream",
     "text": [
      "C:\\ProgramData\\Anaconda3\\lib\\site-packages\\pandas\\core\\groupby\\generic.py:303: FutureWarning: Dropping invalid columns in SeriesGroupBy.agg is deprecated. In a future version, a TypeError will be raised. Before calling .agg, select only columns which should be valid for the aggregating function.\n",
      "  results[key] = self.aggregate(func)\n"
     ]
    }
   ],
   "source": [
    "def min_max(x):\n",
    "    return x.max()-x.min()\n",
    "\n",
    "agg_minmax=grouped.agg(min_max)\n",
    "print(agg_minmax.head())"
   ]
  },
  {
   "cell_type": "code",
   "execution_count": 24,
   "id": "7c2462c5",
   "metadata": {},
   "outputs": [
    {
     "name": "stdout",
     "output_type": "stream",
     "text": [
      "         age           sex       fare           survived    \n",
      "         min   max     min   max  min       max      min max\n",
      "class                                                       \n",
      "First   0.92  80.0  female  male  0.0  512.3292        0   1\n",
      "Second  0.67  70.0  female  male  0.0   73.5000        0   1\n",
      "Third   0.42  74.0  female  male  0.0   69.5500        0   1\n",
      "\n",
      "\n",
      "       fare                  age\n",
      "        min       max       mean\n",
      "class                           \n",
      "First   0.0  512.3292  38.233441\n",
      "Second  0.0   73.5000  29.877630\n",
      "Third   0.0   69.5500  25.140620\n"
     ]
    }
   ],
   "source": [
    "agg_all=grouped.agg(['min','max'])\n",
    "print(agg_all.head())\n",
    "print('\\n')\n",
    "\n",
    "agg_sep=grouped.agg({'fare':['min','max'],'age':'mean'})\n",
    "print(agg_sep.head())"
   ]
  },
  {
   "cell_type": "code",
   "execution_count": 25,
   "id": "43381b8e",
   "metadata": {},
   "outputs": [
    {
     "name": "stdout",
     "output_type": "stream",
     "text": [
      "class\n",
      "First     38.233441\n",
      "Second    29.877630\n",
      "Third     25.140620\n",
      "Name: age, dtype: float64\n",
      "\n",
      "\n",
      "class\n",
      "First     14.802856\n",
      "Second    14.001077\n",
      "Third     12.495398\n",
      "Name: age, dtype: float64\n",
      "\n",
      "\n",
      "origin: First\n",
      "1   -0.015770\n",
      "3   -0.218434\n",
      "6    1.065103\n",
      "Name: age, dtype: float64\n",
      "\n",
      "\n",
      "origin: Second\n",
      "9    -1.134029\n",
      "15    1.794317\n",
      "17         NaN\n",
      "Name: age, dtype: float64\n",
      "\n",
      "\n",
      "origin: Third\n",
      "0   -0.251342\n",
      "2    0.068776\n",
      "4    0.789041\n",
      "Name: age, dtype: float64\n",
      "\n",
      "\n"
     ]
    }
   ],
   "source": [
    "#그룹 연산 데이터 변환\n",
    "age_mean=grouped.age.mean()\n",
    "print(age_mean)\n",
    "print('\\n')\n",
    "\n",
    "age_std=grouped.age.std()\n",
    "print(age_std)\n",
    "print('\\n')\n",
    "\n",
    "for key, group in grouped.age:\n",
    "    group_zscore=(group-age_mean.loc[key])/age_std.loc[key]\n",
    "    print('origin:',key)\n",
    "    print(group_zscore.head(3))\n",
    "    print('\\n')"
   ]
  },
  {
   "cell_type": "code",
   "execution_count": 26,
   "id": "a0a36c5d",
   "metadata": {},
   "outputs": [
    {
     "name": "stdout",
     "output_type": "stream",
     "text": [
      "1   -0.015770\n",
      "9   -1.134029\n",
      "0   -0.251342\n",
      "Name: age, dtype: float64\n",
      "\n",
      "\n",
      "0   -0.251342\n",
      "1   -0.015770\n",
      "2    0.068776\n",
      "3   -0.218434\n",
      "4    0.789041\n",
      "5         NaN\n",
      "6    1.065103\n",
      "7   -1.851931\n",
      "8    0.148805\n",
      "9   -1.134029\n",
      "Name: age, dtype: float64\n"
     ]
    }
   ],
   "source": [
    "def z_score(x):\n",
    "    return(x-x.mean())/x.std()\n",
    "age_zscore=grouped.age.transform(z_score)\n",
    "print(age_zscore.loc[[1,9,0]])\n",
    "print('\\n')\n",
    "print(age_zscore.loc[0:9])"
   ]
  },
  {
   "cell_type": "code",
   "execution_count": 27,
   "id": "aef32f87",
   "metadata": {},
   "outputs": [
    {
     "name": "stdout",
     "output_type": "stream",
     "text": [
      "    age     sex  class     fare  survived\n",
      "0  22.0    male  Third   7.2500         0\n",
      "1  38.0  female  First  71.2833         1\n",
      "2  26.0  female  Third   7.9250         1\n",
      "3  35.0  female  First  53.1000         1\n",
      "4  35.0    male  Third   8.0500         0\n"
     ]
    }
   ],
   "source": [
    "#그룹 객체 필터링\n",
    "grouped_filter=grouped.filter(lambda x:len(x)>=200)\n",
    "print(grouped_filter.head())\n"
   ]
  },
  {
   "cell_type": "code",
   "execution_count": 28,
   "id": "81ccf323",
   "metadata": {},
   "outputs": [
    {
     "name": "stdout",
     "output_type": "stream",
     "text": [
      "      age     sex   class    fare  survived\n",
      "884  25.0    male   Third   7.050         0\n",
      "885  39.0  female   Third  29.125         0\n",
      "886  27.0    male  Second  13.000         0\n",
      "888   NaN  female   Third  23.450         0\n",
      "890  32.0    male   Third   7.750         0\n"
     ]
    }
   ],
   "source": [
    "age_filter=grouped.filter(lambda x:x.age.mean() < 30)\n",
    "print(age_filter.tail())"
   ]
  },
  {
   "cell_type": "code",
   "execution_count": 29,
   "id": "e3293f9c",
   "metadata": {},
   "outputs": [
    {
     "name": "stdout",
     "output_type": "stream",
     "text": [
      "                     age        fare    survived\n",
      "class                                           \n",
      "First  count  186.000000  216.000000  216.000000\n",
      "       mean    38.233441   84.154687    0.629630\n",
      "       std     14.802856   78.380373    0.484026\n",
      "       min      0.920000    0.000000    0.000000\n",
      "       25%     27.000000   30.923950    0.000000\n",
      "       50%     37.000000   60.287500    1.000000\n",
      "       75%     49.000000   93.500000    1.000000\n",
      "       max     80.000000  512.329200    1.000000\n",
      "Second count  173.000000  184.000000  184.000000\n",
      "       mean    29.877630   20.662183    0.472826\n",
      "       std     14.001077   13.417399    0.500623\n",
      "       min      0.670000    0.000000    0.000000\n",
      "       25%     23.000000   13.000000    0.000000\n",
      "       50%     29.000000   14.250000    0.000000\n",
      "       75%     36.000000   26.000000    1.000000\n",
      "       max     70.000000   73.500000    1.000000\n",
      "Third  count  355.000000  491.000000  491.000000\n",
      "       mean    25.140620   13.675550    0.242363\n",
      "       std     12.495398   11.778142    0.428949\n",
      "       min      0.420000    0.000000    0.000000\n",
      "       25%     18.000000    7.750000    0.000000\n",
      "       50%     24.000000    8.050000    0.000000\n",
      "       75%     32.000000   15.500000    0.000000\n",
      "       max     74.000000   69.550000    1.000000\n"
     ]
    }
   ],
   "source": [
    "#그룹 객체에 함수 매핑\n",
    "agg_grouped=grouped.apply(lambda x:x.describe())\n",
    "print(agg_grouped)"
   ]
  },
  {
   "cell_type": "code",
   "execution_count": 30,
   "id": "f1450483",
   "metadata": {},
   "outputs": [
    {
     "name": "stdout",
     "output_type": "stream",
     "text": [
      "0   -0.251342\n",
      "1   -0.015770\n",
      "2    0.068776\n",
      "3   -0.218434\n",
      "4    0.789041\n",
      "Name: age, dtype: float64\n"
     ]
    }
   ],
   "source": [
    "age_zscore=grouped.age.apply(z_score)\n",
    "print(age_zscore.head())"
   ]
  },
  {
   "cell_type": "code",
   "execution_count": 31,
   "id": "7257e050",
   "metadata": {},
   "outputs": [
    {
     "name": "stdout",
     "output_type": "stream",
     "text": [
      "class\n",
      "First     False\n",
      "Second     True\n",
      "Third      True\n",
      "dtype: bool\n",
      "     age     sex   class     fare  survived\n",
      "9   14.0  female  Second  30.0708         1\n",
      "15  55.0  female  Second  16.0000         1\n",
      "17   NaN    male  Second  13.0000         1\n",
      "20  35.0    male  Second  26.0000         0\n",
      "21  34.0    male  Second  13.0000         1\n",
      "\n",
      "\n",
      "    age     sex  class     fare  survived\n",
      "0  22.0    male  Third   7.2500         0\n",
      "2  26.0  female  Third   7.9250         1\n",
      "4  35.0    male  Third   8.0500         0\n",
      "5   NaN    male  Third   8.4583         0\n",
      "7   2.0    male  Third  21.0750         0\n",
      "\n",
      "\n"
     ]
    }
   ],
   "source": [
    "age_filter=grouped.apply(lambda x:x.age.mean()< 30)\n",
    "print(age_filter)\n",
    "\n",
    "for x in age_filter.index:\n",
    "    if age_filter[x]==True:\n",
    "        age_filter_df=grouped.get_group(x)\n",
    "        print(age_filter_df.head())\n",
    "        print('\\n')"
   ]
  },
  {
   "cell_type": "markdown",
   "id": "b82e01d7",
   "metadata": {},
   "source": [
    "# 6.6 멀티 인덱스"
   ]
  },
  {
   "cell_type": "code",
   "execution_count": 32,
   "id": "1342623f",
   "metadata": {},
   "outputs": [
    {
     "name": "stdout",
     "output_type": "stream",
     "text": [
      "                     age        fare  survived\n",
      "class  sex                                    \n",
      "First  female  34.611765  106.125798  0.968085\n",
      "       male    41.281386   67.226127  0.368852\n",
      "Second female  28.722973   21.970121  0.921053\n",
      "       male    30.740707   19.741782  0.157407\n",
      "Third  female  21.750000   16.118810  0.500000\n",
      "       male    26.507589   12.661633  0.135447\n"
     ]
    }
   ],
   "source": [
    "grouped=df.groupby(['class','sex'])\n",
    "\n",
    "gdf=grouped.mean()\n",
    "print(gdf)"
   ]
  },
  {
   "cell_type": "code",
   "execution_count": 33,
   "id": "e7768a16",
   "metadata": {},
   "outputs": [
    {
     "name": "stdout",
     "output_type": "stream",
     "text": [
      "              age        fare  survived\n",
      "sex                                    \n",
      "female  34.611765  106.125798  0.968085\n",
      "male    41.281386   67.226127  0.368852\n"
     ]
    }
   ],
   "source": [
    "print(gdf.loc['First'])"
   ]
  },
  {
   "cell_type": "code",
   "execution_count": 34,
   "id": "6fb1c9f0",
   "metadata": {},
   "outputs": [
    {
     "name": "stdout",
     "output_type": "stream",
     "text": [
      "age          34.611765\n",
      "fare        106.125798\n",
      "survived      0.968085\n",
      "Name: (First, female), dtype: float64\n"
     ]
    }
   ],
   "source": [
    "print(gdf.loc[('First','female')])"
   ]
  },
  {
   "cell_type": "code",
   "execution_count": 35,
   "id": "f43e6147",
   "metadata": {},
   "outputs": [
    {
     "name": "stdout",
     "output_type": "stream",
     "text": [
      "              age       fare  survived\n",
      "class                                 \n",
      "First   41.281386  67.226127  0.368852\n",
      "Second  30.740707  19.741782  0.157407\n",
      "Third   26.507589  12.661633  0.135447\n"
     ]
    }
   ],
   "source": [
    "print(gdf.xs('male',level='sex'))"
   ]
  },
  {
   "cell_type": "markdown",
   "id": "7d501931",
   "metadata": {},
   "source": [
    "# 6.7 피벗"
   ]
  },
  {
   "cell_type": "code",
   "execution_count": 36,
   "id": "6995ab99",
   "metadata": {},
   "outputs": [
    {
     "name": "stdout",
     "output_type": "stream",
     "text": [
      "    age     sex  class     fare  survived\n",
      "0  22.0    male  Third   7.2500         0\n",
      "1  38.0  female  First  71.2833         1\n",
      "2  26.0  female  Third   7.9250         1\n",
      "3  35.0  female  First  53.1000         1\n",
      "4  35.0    male  Third   8.0500         0\n",
      "\n",
      "\n",
      "sex        female       male\n",
      "class                       \n",
      "First   34.611765  41.281386\n",
      "Second  28.722973  30.740707\n",
      "Third   21.750000  26.507589\n"
     ]
    }
   ],
   "source": [
    "df=titanic.loc[:,['age','sex','class','fare','survived']]\n",
    "print(df.head())\n",
    "print('\\n')\n",
    "pdf1=pd.pivot_table(df,\n",
    "                   index='class',\n",
    "                   columns='sex',\n",
    "                   values='age',\n",
    "                   aggfunc='mean')\n",
    "print(pdf1.head())"
   ]
  },
  {
   "cell_type": "code",
   "execution_count": 37,
   "id": "2c69c4a5",
   "metadata": {},
   "outputs": [
    {
     "name": "stdout",
     "output_type": "stream",
     "text": [
      "            mean              sum     \n",
      "sex       female      male female male\n",
      "class                                 \n",
      "First   0.968085  0.368852     91   45\n",
      "Second  0.921053  0.157407     70   17\n",
      "Third   0.500000  0.135447     72   47\n"
     ]
    }
   ],
   "source": [
    "pdf2=pd.pivot_table(df,\n",
    "                   index='class',\n",
    "                   columns='sex',\n",
    "                   values='survived',\n",
    "                   aggfunc=['mean','sum'])\n",
    "print(pdf2.head())"
   ]
  },
  {
   "cell_type": "code",
   "execution_count": 38,
   "id": "5a79ec83",
   "metadata": {},
   "outputs": [
    {
     "name": "stdout",
     "output_type": "stream",
     "text": [
      "                    mean                                      max        \\\n",
      "                     age                   fare               age         \n",
      "survived               0          1           0           1     0     1   \n",
      "class  sex                                                                \n",
      "First  female  25.666667  34.939024  110.604167  105.978159  50.0  63.0   \n",
      "       male    44.581967  36.248000   62.894910   74.637320  71.0  80.0   \n",
      "Second female  36.000000  28.080882   18.250000   22.288989  57.0  55.0   \n",
      "       male    33.369048  16.022000   19.488965   21.095100  70.0  62.0   \n",
      "Third  female  23.818182  19.329787   19.773093   12.464526  48.0  63.0   \n",
      "\n",
      "                                 \n",
      "                 fare            \n",
      "survived            0         1  \n",
      "class  sex                       \n",
      "First  female  151.55  512.3292  \n",
      "       male    263.00  512.3292  \n",
      "Second female   26.00   65.0000  \n",
      "       male     73.50   39.0000  \n",
      "Third  female   69.55   31.3875  \n",
      "\n",
      "\n",
      "MultiIndex([( 'First', 'female'),\n",
      "            ( 'First',   'male'),\n",
      "            ('Second', 'female'),\n",
      "            ('Second',   'male'),\n",
      "            ( 'Third', 'female'),\n",
      "            ( 'Third',   'male')],\n",
      "           names=['class', 'sex'])\n",
      "MultiIndex([('mean',  'age', 0),\n",
      "            ('mean',  'age', 1),\n",
      "            ('mean', 'fare', 0),\n",
      "            ('mean', 'fare', 1),\n",
      "            ( 'max',  'age', 0),\n",
      "            ( 'max',  'age', 1),\n",
      "            ( 'max', 'fare', 0),\n",
      "            ( 'max', 'fare', 1)],\n",
      "           names=[None, None, 'survived'])\n"
     ]
    }
   ],
   "source": [
    "pdf3=pd.pivot_table(df,\n",
    "                   index=['class','sex'],\n",
    "                   columns='survived',\n",
    "                   values=['age','fare'],\n",
    "                   aggfunc=['mean','max'])\n",
    "pd.set_option('display.max_columns',10)\n",
    "print(pdf3.head())\n",
    "print('\\n')\n",
    "print(pdf3.index)\n",
    "print(pdf3.columns)"
   ]
  },
  {
   "cell_type": "code",
   "execution_count": 39,
   "id": "462d59f1",
   "metadata": {},
   "outputs": [
    {
     "name": "stdout",
     "output_type": "stream",
     "text": [
      "               mean                                      max                \\\n",
      "                age                   fare               age          fare   \n",
      "survived          0          1           0           1     0     1       0   \n",
      "sex                                                                          \n",
      "female    25.666667  34.939024  110.604167  105.978159  50.0  63.0  151.55   \n",
      "male      44.581967  36.248000   62.894910   74.637320  71.0  80.0  263.00   \n",
      "\n",
      "                    \n",
      "                    \n",
      "survived         1  \n",
      "sex                 \n",
      "female    512.3292  \n",
      "male      512.3292  \n"
     ]
    }
   ],
   "source": [
    "print(pdf3.xs('First'))"
   ]
  },
  {
   "cell_type": "code",
   "execution_count": 40,
   "id": "cffa196a",
   "metadata": {},
   "outputs": [
    {
     "name": "stdout",
     "output_type": "stream",
     "text": [
      "            survived\n",
      "mean  age   0            25.666667\n",
      "            1            34.939024\n",
      "      fare  0           110.604167\n",
      "            1           105.978159\n",
      "max   age   0            50.000000\n",
      "            1            63.000000\n",
      "      fare  0           151.550000\n",
      "            1           512.329200\n",
      "Name: (First, female), dtype: float64\n"
     ]
    }
   ],
   "source": [
    "print(pdf3.xs(('First','female')))"
   ]
  },
  {
   "cell_type": "code",
   "execution_count": 42,
   "id": "e5d4ee24",
   "metadata": {},
   "outputs": [
    {
     "name": "stdout",
     "output_type": "stream",
     "text": [
      "               mean                                    max                \\\n",
      "                age                  fare              age          fare   \n",
      "survived          0          1          0          1     0     1       0   \n",
      "class                                                                      \n",
      "First     44.581967  36.248000  62.894910  74.637320  71.0  80.0  263.00   \n",
      "Second    33.369048  16.022000  19.488965  21.095100  70.0  62.0   73.50   \n",
      "Third     27.255814  22.274211  12.204469  15.579696  74.0  45.0   69.55   \n",
      "\n",
      "                    \n",
      "                    \n",
      "survived         1  \n",
      "class               \n",
      "First     512.3292  \n",
      "Second     39.0000  \n",
      "Third      56.4958  \n"
     ]
    }
   ],
   "source": [
    "print(pdf3.xs('male', level='sex'))"
   ]
  },
  {
   "cell_type": "code",
   "execution_count": 44,
   "id": "676ff460",
   "metadata": {},
   "outputs": [
    {
     "name": "stdout",
     "output_type": "stream",
     "text": [
      "                  mean                               max                  \n",
      "                   age               fare            age        fare      \n",
      "survived             0       1          0        1     0     1     0     1\n",
      "class  sex                                                                \n",
      "Second male  33.369048  16.022  19.488965  21.0951  70.0  62.0  73.5  39.0\n"
     ]
    }
   ],
   "source": [
    "print(pdf3.xs(('Second','male'),level=[0,'sex']))"
   ]
  },
  {
   "cell_type": "code",
   "execution_count": 45,
   "id": "0a1995b7",
   "metadata": {},
   "outputs": [
    {
     "name": "stdout",
     "output_type": "stream",
     "text": [
      "                     age                   fare            \n",
      "survived               0          1           0           1\n",
      "class  sex                                                 \n",
      "First  female  25.666667  34.939024  110.604167  105.978159\n",
      "       male    44.581967  36.248000   62.894910   74.637320\n",
      "Second female  36.000000  28.080882   18.250000   22.288989\n",
      "       male    33.369048  16.022000   19.488965   21.095100\n",
      "Third  female  23.818182  19.329787   19.773093   12.464526\n",
      "       male    27.255814  22.274211   12.204469   15.579696\n"
     ]
    }
   ],
   "source": [
    "print(pdf3.xs('mean',axis=1))"
   ]
  },
  {
   "cell_type": "code",
   "execution_count": 46,
   "id": "09a5380d",
   "metadata": {},
   "outputs": [
    {
     "name": "stdout",
     "output_type": "stream",
     "text": [
      "survived               0          1\n",
      "class  sex                         \n",
      "First  female  25.666667  34.939024\n",
      "       male    44.581967  36.248000\n",
      "Second female  36.000000  28.080882\n",
      "       male    33.369048  16.022000\n",
      "Third  female  23.818182  19.329787\n",
      "       male    27.255814  22.274211\n"
     ]
    }
   ],
   "source": [
    "print(pdf3.xs(('mean','age'),axis=1))"
   ]
  },
  {
   "cell_type": "code",
   "execution_count": 48,
   "id": "63c3a3e3",
   "metadata": {},
   "outputs": [
    {
     "name": "stdout",
     "output_type": "stream",
     "text": [
      "                    mean               max          \n",
      "                     age        fare   age      fare\n",
      "class  sex                                          \n",
      "First  female  34.939024  105.978159  63.0  512.3292\n",
      "       male    36.248000   74.637320  80.0  512.3292\n",
      "Second female  28.080882   22.288989  55.0   65.0000\n",
      "       male    16.022000   21.095100  62.0   39.0000\n",
      "Third  female  19.329787   12.464526  63.0   31.3875\n",
      "       male    22.274211   15.579696  45.0   56.4958\n"
     ]
    }
   ],
   "source": [
    "print(pdf3.xs(1,level='survived',axis=1))"
   ]
  },
  {
   "cell_type": "code",
   "execution_count": 49,
   "id": "50fa66e2",
   "metadata": {},
   "outputs": [
    {
     "name": "stdout",
     "output_type": "stream",
     "text": [
      "                  max\n",
      "                 fare\n",
      "survived            0\n",
      "class  sex           \n",
      "First  female  151.55\n",
      "       male    263.00\n",
      "Second female   26.00\n",
      "       male     73.50\n",
      "Third  female   69.55\n",
      "       male     69.55\n"
     ]
    }
   ],
   "source": [
    "print(pdf3.xs(('max','fare',0),\n",
    "             level=[0,1,2],axis=1))"
   ]
  }
 ],
 "metadata": {
  "kernelspec": {
   "display_name": "Python 3 (ipykernel)",
   "language": "python",
   "name": "python3"
  },
  "language_info": {
   "codemirror_mode": {
    "name": "ipython",
    "version": 3
   },
   "file_extension": ".py",
   "mimetype": "text/x-python",
   "name": "python",
   "nbconvert_exporter": "python",
   "pygments_lexer": "ipython3",
   "version": "3.9.7"
  }
 },
 "nbformat": 4,
 "nbformat_minor": 5
}
